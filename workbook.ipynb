{
 "cells": [
  {
   "cell_type": "markdown",
   "id": "67926daa",
   "metadata": {},
   "source": [
    "## Business Understanding\n",
    "\n",
    "This project aims to solve the problem of automatically classifying musical chords as either major or minor using audio input. Chord identification is a key task in music analysis, and automating it can save time on transcription and harmonic analysis. By using machine learning and music information retrieval (MIR) techniques, the goal is to create a tool that helps musicians, producers, and educators analyze music in real-time. The project focuses on making chord recognition more accessible and efficient, benefiting both students and professionals in the music industry."
   ]
  },
  {
   "cell_type": "markdown",
   "id": "1fbd3a55",
   "metadata": {},
   "source": [
    "---\n",
    "\n",
    "## Tools/Methodologies\n",
    "\n",
    "To handle the workflow, I'll use several Python libraries:\n",
    "\n",
    "- [librosa](https://librosa.org/doc/latest/index.html) for extracting audio features, [numpy](https://numpy.org/doc/1.24/reference/index.html#reference) and [pandas](https://pandas.pydata.org/docs/reference/index.html#api) for data manipulation, and os and [Kaggle CLI](https://www.kaggle.com/code/donkeys/kaggle-python-api) to download the data directly into the notebook.\n",
    "- [matplotlib](https://matplotlib.org/stable/api/index.html) and [seaborn](https://seaborn.pydata.org/api.html) for exploring and visualizing features like waveforms and spectrograms.\n",
    "- [scikit-learn](https://scikit-learn.org/stable/api/index.html) for baseline models (e.g., logistic regression, SVM), and [tensorflow](https://www.tensorflow.org/api_docs/python/tf/all_symbols) or [keras](https://keras.io/api/) for building CNNs."
   ]
  },
  {
   "cell_type": "code",
   "execution_count": 40,
   "id": "407ec986",
   "metadata": {},
   "outputs": [],
   "source": [
    "# Data manipulation\n",
    "import numpy as np\n",
    "import pandas as pd\n",
    "import sklearn\n",
    "import json\n",
    "import os\n",
    "\n",
    "# Audio feature extraction\n",
    "import librosa\n",
    "from scipy.signal import find_peaks\n",
    "\n",
    "# for Kaggle CLI\n",
    "from kaggle.api.kaggle_api_extended import KaggleApi\n",
    "\n",
    "# Data visualization\n",
    "import matplotlib.pyplot as plt\n",
    "import seaborn as sns\n",
    "\n",
    "# Machine learning models and utilities\n",
    "from sklearn.model_selection import train_test_split\n",
    "from sklearn.preprocessing import StandardScaler\n",
    "from sklearn.linear_model import LogisticRegression\n",
    "from sklearn.svm import SVC\n",
    "from sklearn.metrics import accuracy_score, classification_report, confusion_matrix\n",
    "from sklearn.preprocessing import LabelEncoder\n",
    "\n",
    "# Deep learning for CNNs\n",
    "import tensorflow as tf\n",
    "from tensorflow import keras"
   ]
  },
  {
   "cell_type": "markdown",
   "id": "6e803b05",
   "metadata": {},
   "source": [
    "## Data Understanding\n",
    "The dataset used in this project is sourced from the [Musical Instrument Chord Classification (Audio)](https://www.kaggle.com/datasets/deepcontractor/musical-instrument-chord-classification) dataset on Kaggle. It contains audio files `.wav` format of chords played on two instruments: guitar and piano. The raw data has been scraped from various sources and is already available for download on Kaggle, eliminating the need for manual data collection. The dataset is well-suited for this project, as it provides a clear distinction between major and minor chords, which is the focus of the classification task.\n",
    "\n",
    "The features for the model will be extracted from the audio files using techniques such as Mel-frequency cepstral coefficients (MFCCs) or spectrograms, which capture important frequency and temporal information from the audio signals. Although other individuals may have used this dataset for similar chord classification tasks, this project will build upon existing work by focusing specifically on distinguishing between major and minor chords, potentially improving upon current models or exploring new machine learning techniques for this type of classification."
   ]
  },
  {
   "cell_type": "code",
   "execution_count": 2,
   "id": "9c7173b5",
   "metadata": {},
   "outputs": [],
   "source": [
    "# uncomment if replicating project\n",
    "# !pip install kaggle"
   ]
  },
  {
   "cell_type": "code",
   "execution_count": 3,
   "id": "c8fbdfe3",
   "metadata": {},
   "outputs": [
    {
     "name": "stdout",
     "output_type": "stream",
     "text": [
      "Dataset URL: https://www.kaggle.com/datasets/deepcontractor/musical-instrument-chord-classification\n",
      "Dataset downloaded and extracted to: C:\\Users\\Nik\\Desktop\\code\\Flatiron\\capstone\\dataset\n"
     ]
    }
   ],
   "source": [
    "# Load kaggle.json credentials\n",
    "api_config_path = os.path.join(os.getcwd(), 'kaggle.json')\n",
    "with open(api_config_path, 'r') as f:\n",
    "    kaggle_config = json.load(f)\n",
    "\n",
    "# Set environment variables\n",
    "os.environ['KAGGLE_USERNAME'] = kaggle_config['username']\n",
    "os.environ['KAGGLE_KEY'] = kaggle_config['key']\n",
    "\n",
    "# Initialize the Kaggle API\n",
    "api = KaggleApi()\n",
    "api.authenticate()\n",
    "\n",
    "# Ensure the 'dataset' folder exists\n",
    "dataset_dir = os.path.join(os.getcwd(), 'dataset')\n",
    "os.makedirs(dataset_dir, exist_ok=True)\n",
    "\n",
    "# Use the Kaggle API to download the dataset\n",
    "api.dataset_download_files('deepcontractor/musical-instrument-chord-classification',\n",
    "                           path=dataset_dir, unzip=True)\n",
    "\n",
    "print(\"Dataset downloaded and extracted to:\", dataset_dir)"
   ]
  },
  {
   "cell_type": "code",
   "execution_count": 4,
   "id": "4f5d2bac",
   "metadata": {},
   "outputs": [
    {
     "data": {
      "text/html": [
       "<div>\n",
       "<style scoped>\n",
       "    .dataframe tbody tr th:only-of-type {\n",
       "        vertical-align: middle;\n",
       "    }\n",
       "\n",
       "    .dataframe tbody tr th {\n",
       "        vertical-align: top;\n",
       "    }\n",
       "\n",
       "    .dataframe thead th {\n",
       "        text-align: right;\n",
       "    }\n",
       "</style>\n",
       "<table border=\"1\" class=\"dataframe\">\n",
       "  <thead>\n",
       "    <tr style=\"text-align: right;\">\n",
       "      <th></th>\n",
       "      <th>path</th>\n",
       "      <th>id</th>\n",
       "      <th>label</th>\n",
       "    </tr>\n",
       "  </thead>\n",
       "  <tbody>\n",
       "    <tr>\n",
       "      <th>0</th>\n",
       "      <td>C:\\Users\\Nik\\Desktop\\code\\Flatiron\\capstone\\da...</td>\n",
       "      <td>Major_0.wav</td>\n",
       "      <td>Major</td>\n",
       "    </tr>\n",
       "    <tr>\n",
       "      <th>1</th>\n",
       "      <td>C:\\Users\\Nik\\Desktop\\code\\Flatiron\\capstone\\da...</td>\n",
       "      <td>Major_1.wav</td>\n",
       "      <td>Major</td>\n",
       "    </tr>\n",
       "    <tr>\n",
       "      <th>2</th>\n",
       "      <td>C:\\Users\\Nik\\Desktop\\code\\Flatiron\\capstone\\da...</td>\n",
       "      <td>Major_10.wav</td>\n",
       "      <td>Major</td>\n",
       "    </tr>\n",
       "    <tr>\n",
       "      <th>3</th>\n",
       "      <td>C:\\Users\\Nik\\Desktop\\code\\Flatiron\\capstone\\da...</td>\n",
       "      <td>Major_100.wav</td>\n",
       "      <td>Major</td>\n",
       "    </tr>\n",
       "    <tr>\n",
       "      <th>4</th>\n",
       "      <td>C:\\Users\\Nik\\Desktop\\code\\Flatiron\\capstone\\da...</td>\n",
       "      <td>Major_101.wav</td>\n",
       "      <td>Major</td>\n",
       "    </tr>\n",
       "  </tbody>\n",
       "</table>\n",
       "</div>"
      ],
      "text/plain": [
       "                                                path             id  label\n",
       "0  C:\\Users\\Nik\\Desktop\\code\\Flatiron\\capstone\\da...    Major_0.wav  Major\n",
       "1  C:\\Users\\Nik\\Desktop\\code\\Flatiron\\capstone\\da...    Major_1.wav  Major\n",
       "2  C:\\Users\\Nik\\Desktop\\code\\Flatiron\\capstone\\da...   Major_10.wav  Major\n",
       "3  C:\\Users\\Nik\\Desktop\\code\\Flatiron\\capstone\\da...  Major_100.wav  Major\n",
       "4  C:\\Users\\Nik\\Desktop\\code\\Flatiron\\capstone\\da...  Major_101.wav  Major"
      ]
     },
     "execution_count": 4,
     "metadata": {},
     "output_type": "execute_result"
    }
   ],
   "source": [
    "# Define the base directory where the audio files are stored\n",
    "base_dir = os.path.join(os.getcwd(), 'dataset', 'Audio_Files')\n",
    "\n",
    "# Prepare to collect file details\n",
    "file_details = []\n",
    "\n",
    "# Loop through each category directory ('Major' and 'Minor')\n",
    "for category in ['Major', 'Minor']:\n",
    "    category_dir = os.path.join(base_dir, category)\n",
    "    \n",
    "    for filename in os.listdir(category_dir):\n",
    "        if filename.endswith('.wav'):\n",
    "            # Full path to file\n",
    "            file_path = os.path.join(category_dir, filename)\n",
    "            # Append the file path, filename (used as ID), and label to the list\n",
    "            file_details.append({'path': file_path, 'id': filename, 'label': category})\n",
    "\n",
    "# Save collected file details as a DataFrame\n",
    "file_data = pd.DataFrame(file_details)\n",
    "\n",
    "file_data.head()"
   ]
  },
  {
   "cell_type": "markdown",
   "id": "f871d2c3",
   "metadata": {},
   "source": [
    "### Model Iterations:\n",
    "\n",
    "#### Model v1:\n",
    "\n",
    "First, I wanted to to compare the extract_features method I used in my [last project]() (mostly out of curiosity :p)\n",
    "\n",
    "This included extracting features like:\n",
    "- **Chroma Features**: calculated using the short-time Fourier transform (STFT) of the audio file. Chroma features capture the essence of the pitch content within each octave group - which is vital for chord identification.\n",
    "- **MFCCs**: used to capture the timbral aspects of an audio signal. (This is what makes a song or chord 'feel' a certain way!) The first few coefficients especially provide a good representation of the overall spectral shape which is influenced by the harmonic structure of the chord.\n",
    "\n",
    "These features were fed into a Convolutional Neural Network (CNN):\n",
    "\n",
    "| Class | Precision | Recall | F1-score | Support |\n",
    "|-------|-----------|--------|----------|---------|\n",
    "| Major | 0.53      | 1.00   | 0.70     | 46      |\n",
    "| Minor | 0.00      | 0.00   | 0.00     | 40      |\n",
    "| **accuracy** | | | 0.53 | 86 |\n",
    "| **macro avg** | 0.27 | 0.50 | 0.35 | 86 |\n",
    "| **weighted avg** | 0.29 | 0.53 | 0.37 | 86 |\n",
    "\n",
    "This is alarming - our scores for precision, recall, and f1-score for the Minor class are ALL zero. \n",
    "This is probably because we are focusing in on timbral aspects of the audio, rather than the individual frequencies of the notes in the chords. But an interesting first model!\n",
    "\n",
    "\n",
    "#### Model v2:\n",
    "\n",
    "After implementing a new feature extraction method to extract harmonics, these are the results of a simple Logistic Regression as a baseline classifier.\n",
    "\n",
    "Accuracy: 60.47%\n",
    "\n",
    "Classification Report (Harmonics & Simple Logistic Regression):\n",
    "\n",
    "|               | precision | recall | f1-score | support |\n",
    "|---------------|------------|--------|----------|---------|\n",
    "| **Major**     | 0.63       | 0.81   | 0.71     | 101     |\n",
    "| **Minor**     | 0.54       | 0.31   | 0.39     | 71      |\n",
    "| **accuracy**  |            |        | 0.60     | 172     |\n",
    "| **macro avg** | 0.58       | 0.56   | 0.55     | 172     |\n",
    "| **weighted avg** | 0.59    | 0.60   | 0.58     | 172     |\n",
    "\n",
    "Confusion Matrix:\n",
    "\n",
    "[[82 19]\n",
    "\n",
    " [49 22]]\n",
    " \n",
    " #### Model v3:\n",
    " \n",
    " "
   ]
  },
  {
   "cell_type": "markdown",
   "id": "6543e570",
   "metadata": {},
   "source": [
    "## Music and Math\n",
    "\n",
    "Each musical note corresponds to a fundamental frequency - the lowest frequency of a note that is musically pleasing. This frequency is what characterizes the note, which is represented by letters ['A', 'B', 'C', 'D', 'E', 'F', 'G']. \n",
    "\n",
    "#### Frequency:\n",
    "\n",
    "The frequency \\( f \\) of a note can be calculated with the following formula:\n",
    "\n",
    "$$ f = f_0 \\times 2^{\\frac{n}{12}} $$\n",
    "\n",
    "Where:\n",
    "- `f_0` is the frequency of a reference note (usually the note **A4**, which is **440 Hz**).\n",
    "- `n` is the number of half-steps away from the reference note. Positive values of `n` indicate higher notes, while negative values indicate lower notes.\n",
    "\n",
    "The standard practice in determining the closest note to a given frequency generally involves finding which standard note frequency it's nearest to.\n",
    "\n",
    "#### Harmonics\n",
    "\n",
    "A single note played on an instrument does not produce just one frequency. For example, playing an 'A' at 220 Hz will generate additional frequencies at 440 Hz, 660 Hz, 880 Hz, 1100 Hz, and so on. According to this [Music Note Frequency Chart](https://mixbutton.com/mixing-articles/music-note-to-frequency-chart/) the frequencies 220, 440, and 880 Hz correspond to the musical notes A3, A4, and A5, respectively. These notes are all 'A' notes, each one octave apart. The lowest harmonic, known as the fundamental frequency, determines the perceived pitch of the sound.\n",
    "\n",
    "> In standard musical pitch, A4, or the fourth octave 'A', is tuned to 440 Hz.\n",
    "\n",
    "Interestingly, the frequency 1100 Hz falls between the frequencies for B5 (987.77 Hz) and C6 (1046.50 Hz). Calculating the midpoint between these two frequencies gives:\n",
    "\n",
    "$$\n",
    "\\text{Midpoint} = \\frac{987.77 \\, \\text{Hz} + 1046.50 \\, \\text{Hz}}{2} = 1017.135 \\, \\text{Hz}\n",
    "$$\n",
    "\n",
    "Since 1100 Hz is closer to 1046.50 Hz than to 987.77 Hz, it would be classified closer to C6 in standard musical pitch, though it is somewhat sharper than a typical B5. This illustrates how harmonics work in physical instruments, where playing a fundamental note also produces these higher frequencies, contributing to the richness of the instrument's sound.\n",
    "\n",
    "#### Chords\n",
    "\n",
    "A chord represents a combination of several notes played simultaneously, resulting in a harmonious sound. This harmony is achieved through the specific relationship of the frequencies of the notes within the chord. For instance, a simple major chord is composed of the root note, a major third above the root, and a perfect fifth above the root, creating a full and bright sound typically associated with major chords.\n",
    "\n",
    "Minor chords, on the other hand, are formed by the root note, a minor third above the root, and a perfect fifth above the root, delivering a more melancholic or somber tone compared to major chords.\n",
    "\n",
    "In addition to major and minor chords, two other common types are diminished and augmented chords. A diminished chord is made up of the root note, a minor third, and a diminished fifth, giving it a tense and unstable sound. An augmented chord consists of the root note, a major third, and an augmented fifth, which creates a sense of suspense or unresolved tension.\n",
    "\n",
    "#### FourierTransforms\n",
    "\n",
    "A Fourier transform is a powerful mathematical tool that transforms a signal from its original domain (often time or space) into a frequency domain. This transformation allows us to dissect complex signals and understand how different frequencies contribute to the overall signal. Essentially, it breaks down a wave-like signal into its individual components, highlighting the frequencies that are present.\n",
    "\n",
    "Why does this help us? Well, by using a Fourier transform, we can analyze various aspects of signals that are not immediately apparent in the time domain. For example, in music production, it helps us identify the specific frequencies that make up a sound, which is crucial for tasks like mixing, mastering, or even sound design. This analysis provides insights into the pitch, tone, and timbre of sounds, helping audio engineers and musicians make informed decisions to enhance musical pieces.\n",
    "\n",
    "In essence, the Fourier transform is a bridge between the time domain and the frequency domain, providing a comprehensive look at the frequencies that influence a signal. This capability makes it an indispensable tool in fields ranging from audio processing to telecommunications and beyond.\n",
    "\n",
    "Using a frequency chart to analyze these chords would reveal a complex spectrum due to the concurrent presence of multiple notes. Each note in a chord contributes its fundamental frequency along with its harmonics, leading to a dense array of spikes on the chart. This complex interplay of frequencies helps to understand why chords have their distinctive sounds and emotional impacts."
   ]
  },
  {
   "cell_type": "markdown",
   "id": "ea319291",
   "metadata": {},
   "source": [
    "### Spectogram\n",
    "\n",
    "A **spectrogram** is a visual representation of the spectrum of frequencies in a sound or other signal as they vary with time. It's essentially a graph that shows the intensity (or loudness) of various frequencies over a period of time. The horizontal axis of a spectrogram represents time, the vertical axis represents frequency, and the colors or shades on the graph indicate the amplitude or strength of the frequencies at any given time. \n",
    "\n",
    "#### Why are they useful?\n",
    "\n",
    "- **Analysis of Sounds**: Spectrograms are incredibly useful for analyzing the characteristics of different sounds, making them indispensable in fields like music production, linguistics, and sound engineering. They help identify variations in frequency that occur over time, which can be crucial for understanding speech patterns, musical notes, and environmental sounds.\n",
    "- **Signal Processing**: In signal processing, spectrograms provide a clear visualization of how frequencies change, aiding in the enhancement or isolation of specific sounds within a mixed signal.\n",
    "- **Troubleshooting**: They are also used to diagnose issues in machinery or systems by detecting unusual frequency patterns, which often indicate malfunctions."
   ]
  },
  {
   "cell_type": "code",
   "execution_count": 16,
   "id": "1c34bbd7",
   "metadata": {},
   "outputs": [],
   "source": [
    "from IPython.display import Audio\n",
    "\n",
    "# To visualize audio data\n",
    "from scipy.fft import fft\n",
    "from scipy.io import wavfile"
   ]
  },
  {
   "cell_type": "code",
   "execution_count": 17,
   "id": "0d934682",
   "metadata": {},
   "outputs": [],
   "source": [
    "class AudioAnalyzer:\n",
    "    def __init__(self, df):\n",
    "        self.df = df\n",
    "\n",
    "    def play_audio(self, file_id):\n",
    "        row = self.df.iloc[file_id]\n",
    "        filename = row['path']\n",
    "        return Audio(filename)\n",
    "\n",
    "    def plot_audio(self, file_id, max_freq=None):\n",
    "        row = self.df.iloc[file_id]\n",
    "        filename = row['path']\n",
    "        \n",
    "        # Read the audio file\n",
    "        samplerate, data = wavfile.read(filename)\n",
    "        times = np.arange(len(data)) / float(samplerate)\n",
    "        \n",
    "        # Plot time domain data\n",
    "        plt.figure(figsize=(16, 6))\n",
    "        plt.subplot(1, 2, 1)\n",
    "        plt.title(\"Time Domain\")\n",
    "        plt.xlabel(\"Time [s]\")\n",
    "        plt.ylabel(\"Amplitude\")\n",
    "        plt.plot(times, data)\n",
    "        \n",
    "        # Compute and plot frequency domain data\n",
    "        fft_data = np.fft.fft(data)\n",
    "        freqs = np.fft.fftfreq(len(fft_data), 1/samplerate)\n",
    "        magnitude = np.abs(fft_data)[:len(data)//2]\n",
    "        freqs = freqs[:len(data)//2]\n",
    "        \n",
    "        plt.subplot(1, 2, 2)\n",
    "        plt.title(\"Frequency Domain\")\n",
    "        plt.xlabel(\"Frequency [Hz]\")\n",
    "        plt.ylabel(\"Magnitude\")\n",
    "        if max_freq is not None:\n",
    "            plt.xlim([0, max_freq])\n",
    "        plt.plot(freqs, magnitude)\n",
    "        plt.show()\n",
    "        \n",
    "    def plot_spectrogram(self, file_id, max_freq=None):\n",
    "        row = self.df.iloc[file_id]\n",
    "        filename = row['path']\n",
    "        signal, sr = librosa.load(filename, sr=None)  # Load with the original sample rate\n",
    "\n",
    "        # Generate the spectrogram\n",
    "        D = librosa.amplitude_to_db(np.abs(librosa.stft(signal)), ref=np.max)\n",
    "\n",
    "        # Plotting the spectrogram\n",
    "        plt.figure(figsize=(10, 4))\n",
    "        librosa.display.specshow(D, sr=sr, x_axis='time', y_axis='log')\n",
    "        if max_freq is not None:\n",
    "            plt.ylim([0, max_freq])\n",
    "        plt.colorbar(format='%+2.0f dB')\n",
    "        plt.title('Spectrogram')\n",
    "        plt.xlabel('Time')\n",
    "        plt.ylabel('Frequency (Hz)')\n",
    "        plt.tight_layout()\n",
    "        plt.show()"
   ]
  },
  {
   "cell_type": "code",
   "execution_count": 18,
   "id": "cc22937f",
   "metadata": {
    "scrolled": false
   },
   "outputs": [
    {
     "data": {
      "image/png": "[encoded data removed]",
      "text/plain": [
       "<Figure size 1152x432 with 2 Axes>"
      ]
     },
     "metadata": {
      "needs_background": "light"
     },
     "output_type": "display_data"
    },
    {
     "data": {
      "image/png": "[encoded data removed]",
      "text/plain": [
       "<Figure size 720x288 with 2 Axes>"
      ]
     },
     "metadata": {
      "needs_background": "light"
     },
     "output_type": "display_data"
    }
   ],
   "source": [
    "analyzer = AudioAnalyzer(file_data)\n",
    "file_id = 440 #up to 858\n",
    "\n",
    "# Play the audio\n",
    "audio_player = analyzer.play_audio(file_id)\n",
    "audio_player\n",
    "\n",
    "# Plot the audio\n",
    "analyzer.plot_audio(file_id, max_freq=5000)\n",
    "analyzer.plot_spectrogram(file_id, max_freq=5000)"
   ]
  },
  {
   "cell_type": "markdown",
   "id": "e0d0a2f7",
   "metadata": {},
   "source": [
    "---\n",
    "\n",
    "## Data Preparation\n",
    "\n",
    "The dataset consists of raw .wav files, so no traditional tabular data is available. Preprocessing will involve extracting features like MFCCs, spectrograms, or chroma features to transform the audio into usable data. Challenges include ensuring that these features correctly capture the harmonic information while handling variations in recording quality and instrument type. We estimate several hundred rows of data, each representing an individual chord sample. Visualizations like waveform plots and spectrograms will be used to explore the features that distinguish major from minor chords."
   ]
  },
  {
   "cell_type": "markdown",
   "id": "b5e26fc9",
   "metadata": {},
   "source": [
    "#### Extract Feature Function\n",
    "\n",
    "\n",
    "#### Encode Labels\n",
    "Our target feature 'label' should be converted into a numerical format.\n",
    "> 0: Major \n",
    "> 1: Minor"
   ]
  },
  {
   "cell_type": "code",
   "execution_count": 28,
   "id": "583b778c",
   "metadata": {},
   "outputs": [],
   "source": [
    "def find_harmonics(file_path, sr=22050, n_fft=2048):\n",
    "    try:\n",
    "        # Load the audio file\n",
    "        y, sr = librosa.load(file_path, sr=sr)\n",
    "\n",
    "        # Perform Fourier Transform to get the frequency spectrum\n",
    "        fft_result = np.fft.fft(y)\n",
    "        magnitude = np.abs(fft_result)  # Magnitude of the Fourier Transform\n",
    "        frequency = np.fft.fftfreq(len(magnitude), 1/sr)  # Frequency bins\n",
    "\n",
    "        # Only keep the positive frequencies\n",
    "        positive_freq_idxs = np.where(frequency >= 0)\n",
    "        positive_freqs = frequency[positive_freq_idxs]\n",
    "        positive_magnitude = magnitude[positive_freq_idxs]\n",
    "\n",
    "        # Find peaks in the frequency spectrum\n",
    "        peaks, _ = find_peaks(positive_magnitude, height=np.max(positive_magnitude) * 0.1)  # threshold at 10% of the max\n",
    "\n",
    "        # Get the corresponding frequencies of the peaks\n",
    "        harmonic_frequencies = positive_freqs[peaks]\n",
    "\n",
    "        # Return the harmonic frequencies\n",
    "        return harmonic_frequencies\n",
    "    except Exception as e:\n",
    "        print(f\"Error processing {file_path}: {e}\")\n",
    "        return None"
   ]
  },
  {
   "cell_type": "code",
   "execution_count": 29,
   "id": "c321c0f7",
   "metadata": {},
   "outputs": [
    {
     "name": "stdout",
     "output_type": "stream",
     "text": [
      "          id  Label  harmonic_1  harmonic_2  harmonic_3  harmonic_4  \\\n",
      "0    Major_0  Major  130.665350  165.331667  195.998025  262.219580   \n",
      "1    Major_1  Major  165.331667  196.442465  261.775140  329.774454   \n",
      "2   Major_10  Major  130.909091  185.000000  234.090909  262.272727   \n",
      "3  Major_100  Major  155.454545  195.909091  278.181818  311.363636   \n",
      "4  Major_101  Major  155.909091  196.818182  197.727273  278.181818   \n",
      "\n",
      "   harmonic_5  harmonic_6  harmonic_7  harmonic_8  ...  harmonic_24  \\\n",
      "0  329.330014  330.218894  391.996049  392.884929  ...          NaN   \n",
      "1  331.107774  392.440489  495.995001  523.994719  ...          NaN   \n",
      "2  329.545455  370.454545  393.181818  468.181818  ...          NaN   \n",
      "3  349.545455  392.272727  466.818182  556.363636  ...          NaN   \n",
      "4  311.363636  350.454545  392.727273  466.818182  ...          NaN   \n",
      "\n",
      "   harmonic_25  harmonic_26  harmonic_27  harmonic_28  harmonic_29  \\\n",
      "0          NaN          NaN          NaN          NaN          NaN   \n",
      "1          NaN          NaN          NaN          NaN          NaN   \n",
      "2          NaN          NaN          NaN          NaN          NaN   \n",
      "3          NaN          NaN          NaN          NaN          NaN   \n",
      "4          NaN          NaN          NaN          NaN          NaN   \n",
      "\n",
      "   harmonic_30  harmonic_31  harmonic_32  harmonic_33  \n",
      "0          NaN          NaN          NaN          NaN  \n",
      "1          NaN          NaN          NaN          NaN  \n",
      "2          NaN          NaN          NaN          NaN  \n",
      "3          NaN          NaN          NaN          NaN  \n",
      "4          NaN          NaN          NaN          NaN  \n",
      "\n",
      "[5 rows x 35 columns]\n"
     ]
    }
   ],
   "source": [
    "harmonics_data = []\n",
    "\n",
    "# Extracting harmonics for each file and storing them in a list\n",
    "for index, row in file_data.iterrows():\n",
    "    harmonics = find_harmonics(row['path'])\n",
    "    if harmonics is not None:\n",
    "        harmonics_data.append({\n",
    "            'id': row['id'].replace('.wav', ''),\n",
    "            'Label': row['label'],\n",
    "            'harmonics': harmonics  # Store the harmonics as a list for now\n",
    "        })\n",
    "\n",
    "# Find the maximum number of harmonics across all files\n",
    "max_harmonics = max(len(item['harmonics']) for item in harmonics_data)\n",
    "\n",
    "# Prepare a list to hold each row's dictionary\n",
    "harmonics_dict_list = []\n",
    "\n",
    "for item in harmonics_data:\n",
    "    harmonic_dict = {\n",
    "        'id': item['id'],\n",
    "        'Label': item['Label']\n",
    "    }\n",
    "    \n",
    "    # Fill harmonic frequencies, and pad with NaN if there are fewer than max_harmonics\n",
    "    for i in range(max_harmonics):\n",
    "        harmonic_dict[f'harmonic_{i+1}'] = item['harmonics'][i] if i < len(item['harmonics']) else np.nan\n",
    "    \n",
    "    harmonics_dict_list.append(harmonic_dict)\n",
    "\n",
    "# Create a new DataFrame from the list of dictionaries\n",
    "harmonics_df = pd.DataFrame(harmonics_dict_list)\n",
    "\n",
    "# Display the first few rows of the new DataFrame\n",
    "print(harmonics_df.head())"
   ]
  },
  {
   "cell_type": "code",
   "execution_count": 34,
   "id": "e7309201",
   "metadata": {},
   "outputs": [],
   "source": [
    "harmonic_columns = [col for col in harmonics_df.columns if col.startswith('harmonic_')]"
   ]
  },
  {
   "cell_type": "markdown",
   "id": "a8e5cbd9",
   "metadata": {},
   "source": [
    "---\n",
    "\n",
    "# Modeling\n",
    "\n",
    "This is a classification problem, with the goal of predicting whether a chord is major or minor. The initial plan is to use a basic model like logistic regression or SVM as a baseline. After extracting features like MFCCs or spectrograms, we will establish the baseline and then experiment with more advanced models like convolutional neural networks (CNNs) to improve accuracy."
   ]
  },
  {
   "cell_type": "code",
   "execution_count": 31,
   "id": "d0ffae69",
   "metadata": {},
   "outputs": [],
   "source": [
    "from sklearn.model_selection import train_test_split\n",
    "from tensorflow.keras.models import Sequential\n",
    "from tensorflow.keras.layers import Dense, Conv1D, Flatten, MaxPooling1D, Dropout\n",
    "from sklearn.preprocessing import StandardScaler\n",
    "from sklearn.linear_model import LogisticRegression\n",
    "from sklearn.metrics import accuracy_score, classification_report, confusion_matrix"
   ]
  },
  {
   "cell_type": "code",
   "execution_count": 36,
   "id": "b0616c80",
   "metadata": {},
   "outputs": [
    {
     "name": "stderr",
     "output_type": "stream",
     "text": [
      "<ipython-input-36-5bd790f538ef>:6: SettingWithCopyWarning: \n",
      "A value is trying to be set on a copy of a slice from a DataFrame\n",
      "\n",
      "See the caveats in the documentation: https://pandas.pydata.org/pandas-docs/stable/user_guide/indexing.html#returning-a-view-versus-a-copy\n",
      "  X.loc[:, :] = X.fillna(0)\n"
     ]
    }
   ],
   "source": [
    "# Split data into features and target\n",
    "X = harmonics_df[harmonic_columns]\n",
    "y = harmonics_df['Label'] \n",
    "\n",
    "# Handle missing values (NaNs)\n",
    "X.loc[:, :] = X.fillna(0)\n",
    "\n",
    "# Splitting the dataset into training, validation, and test sets\n",
    "X_train, X_test, y_train, y_test = train_test_split(X, y, test_size=0.2, random_state=42, stratify=y)"
   ]
  },
  {
   "cell_type": "code",
   "execution_count": 37,
   "id": "4fee25f8",
   "metadata": {},
   "outputs": [],
   "source": [
    "# Feature Scaling\n",
    "scaler = StandardScaler()\n",
    "X_train_scaled = scaler.fit_transform(X_train)\n",
    "X_test_scaled = scaler.transform(X_test)"
   ]
  },
  {
   "cell_type": "code",
   "execution_count": 38,
   "id": "a633486f",
   "metadata": {},
   "outputs": [
    {
     "data": {
      "text/html": [
       "<style>#sk-container-id-1 {color: black;}#sk-container-id-1 pre{padding: 0;}#sk-container-id-1 div.sk-toggleable {background-color: white;}#sk-container-id-1 label.sk-toggleable__label {cursor: pointer;display: block;width: 100%;margin-bottom: 0;padding: 0.3em;box-sizing: border-box;text-align: center;}#sk-container-id-1 label.sk-toggleable__label-arrow:before {content: \"▸\";float: left;margin-right: 0.25em;color: #696969;}#sk-container-id-1 label.sk-toggleable__label-arrow:hover:before {color: black;}#sk-container-id-1 div.sk-estimator:hover label.sk-toggleable__label-arrow:before {color: black;}#sk-container-id-1 div.sk-toggleable__content {max-height: 0;max-width: 0;overflow: hidden;text-align: left;background-color: #f0f8ff;}#sk-container-id-1 div.sk-toggleable__content pre {margin: 0.2em;color: black;border-radius: 0.25em;background-color: #f0f8ff;}#sk-container-id-1 input.sk-toggleable__control:checked~div.sk-toggleable__content {max-height: 200px;max-width: 100%;overflow: auto;}#sk-container-id-1 input.sk-toggleable__control:checked~label.sk-toggleable__label-arrow:before {content: \"▾\";}#sk-container-id-1 div.sk-estimator input.sk-toggleable__control:checked~label.sk-toggleable__label {background-color: #d4ebff;}#sk-container-id-1 div.sk-label input.sk-toggleable__control:checked~label.sk-toggleable__label {background-color: #d4ebff;}#sk-container-id-1 input.sk-hidden--visually {border: 0;clip: rect(1px 1px 1px 1px);clip: rect(1px, 1px, 1px, 1px);height: 1px;margin: -1px;overflow: hidden;padding: 0;position: absolute;width: 1px;}#sk-container-id-1 div.sk-estimator {font-family: monospace;background-color: #f0f8ff;border: 1px dotted black;border-radius: 0.25em;box-sizing: border-box;margin-bottom: 0.5em;}#sk-container-id-1 div.sk-estimator:hover {background-color: #d4ebff;}#sk-container-id-1 div.sk-parallel-item::after {content: \"\";width: 100%;border-bottom: 1px solid gray;flex-grow: 1;}#sk-container-id-1 div.sk-label:hover label.sk-toggleable__label {background-color: #d4ebff;}#sk-container-id-1 div.sk-serial::before {content: \"\";position: absolute;border-left: 1px solid gray;box-sizing: border-box;top: 0;bottom: 0;left: 50%;z-index: 0;}#sk-container-id-1 div.sk-serial {display: flex;flex-direction: column;align-items: center;background-color: white;padding-right: 0.2em;padding-left: 0.2em;position: relative;}#sk-container-id-1 div.sk-item {position: relative;z-index: 1;}#sk-container-id-1 div.sk-parallel {display: flex;align-items: stretch;justify-content: center;background-color: white;position: relative;}#sk-container-id-1 div.sk-item::before, #sk-container-id-1 div.sk-parallel-item::before {content: \"\";position: absolute;border-left: 1px solid gray;box-sizing: border-box;top: 0;bottom: 0;left: 50%;z-index: -1;}#sk-container-id-1 div.sk-parallel-item {display: flex;flex-direction: column;z-index: 1;position: relative;background-color: white;}#sk-container-id-1 div.sk-parallel-item:first-child::after {align-self: flex-end;width: 50%;}#sk-container-id-1 div.sk-parallel-item:last-child::after {align-self: flex-start;width: 50%;}#sk-container-id-1 div.sk-parallel-item:only-child::after {width: 0;}#sk-container-id-1 div.sk-dashed-wrapped {border: 1px dashed gray;margin: 0 0.4em 0.5em 0.4em;box-sizing: border-box;padding-bottom: 0.4em;background-color: white;}#sk-container-id-1 div.sk-label label {font-family: monospace;font-weight: bold;display: inline-block;line-height: 1.2em;}#sk-container-id-1 div.sk-label-container {text-align: center;}#sk-container-id-1 div.sk-container {/* jupyter's `normalize.less` sets `[hidden] { display: none; }` but bootstrap.min.css set `[hidden] { display: none !important; }` so we also need the `!important` here to be able to override the default hidden behavior on the sphinx rendered scikit-learn.org. See: https://github.com/scikit-learn/scikit-learn/issues/21755 */display: inline-block !important;position: relative;}#sk-container-id-1 div.sk-text-repr-fallback {display: none;}</style><div id=\"sk-container-id-1\" class=\"sk-top-container\"><div class=\"sk-text-repr-fallback\"><pre>LogisticRegression(max_iter=1000, random_state=42)</pre><b>In a Jupyter environment, please rerun this cell to show the HTML representation or trust the notebook. <br />On GitHub, the HTML representation is unable to render, please try loading this page with nbviewer.org.</b></div><div class=\"sk-container\" hidden><div class=\"sk-item\"><div class=\"sk-estimator sk-toggleable\"><input class=\"sk-toggleable__control sk-hidden--visually\" id=\"sk-estimator-id-1\" type=\"checkbox\" checked><label for=\"sk-estimator-id-1\" class=\"sk-toggleable__label sk-toggleable__label-arrow\">LogisticRegression</label><div class=\"sk-toggleable__content\"><pre>LogisticRegression(max_iter=1000, random_state=42)</pre></div></div></div></div></div>"
      ],
      "text/plain": [
       "LogisticRegression(max_iter=1000, random_state=42)"
      ]
     },
     "execution_count": 38,
     "metadata": {},
     "output_type": "execute_result"
    }
   ],
   "source": [
    "# Model configuration\n",
    "input_shape = (X_train.shape[1], 1)\n",
    "\n",
    "# Building the model\n",
    "model = LogisticRegression(max_iter=1000, random_state=42)\n",
    "model.fit(X_train_scaled, y_train)\n",
    "\n",
    "# Compile the model\n",
    "# model.compile(optimizer='adam', loss='binary_crossentropy', metrics=['accuracy'])"
   ]
  },
  {
   "cell_type": "markdown",
   "id": "3c218e56",
   "metadata": {},
   "source": [
    "---\n",
    "\n",
    "# Evaluation\n",
    "\n",
    "To evaluate the model, we will use metrics such as accuracy, precision, recall, and F1-score, focusing on correctly classifying both major and minor chords. The minimum viable product (MVP) will involve building a baseline model (e.g., logistic regression or SVM) to classify the chords with reasonable accuracy. Stretch goals include improving the model using more complex techniques like CNNs or RNNs, and addressing any data imbalances to achieve better generalization and robustness."
   ]
  },
  {
   "cell_type": "code",
   "execution_count": 39,
   "id": "c51aca56",
   "metadata": {},
   "outputs": [
    {
     "name": "stdout",
     "output_type": "stream",
     "text": [
      "Accuracy: 60.47%\n",
      "\n",
      "Classification Report:\n",
      "              precision    recall  f1-score   support\n",
      "\n",
      "       Major       0.63      0.81      0.71       101\n",
      "       Minor       0.54      0.31      0.39        71\n",
      "\n",
      "    accuracy                           0.60       172\n",
      "   macro avg       0.58      0.56      0.55       172\n",
      "weighted avg       0.59      0.60      0.58       172\n",
      "\n",
      "Confusion Matrix:\n",
      "[[82 19]\n",
      " [49 22]]\n"
     ]
    }
   ],
   "source": [
    "# Predict on the test set\n",
    "y_pred = model.predict(X_test_scaled)\n",
    "\n",
    "# Evaluate the model\n",
    "accuracy = accuracy_score(y_test, y_pred)\n",
    "print(f\"Accuracy: {accuracy * 100:.2f}%\")\n",
    "\n",
    "# Print detailed classification report (precision, recall, f1-score)\n",
    "print(\"\\nClassification Report:\")\n",
    "print(classification_report(y_test, y_pred))\n",
    "\n",
    "# Confusion matrix\n",
    "print(\"Confusion Matrix:\")\n",
    "print(confusion_matrix(y_test, y_pred))"
   ]
  },
  {
   "cell_type": "markdown",
   "id": "8330cdd7",
   "metadata": {},
   "source": [
    "---\n",
    "\n",
    "# Deployment\n",
    "\n",
    "The results will be delivered through a simple Streamlit web app, where users can upload or record audio files to classify as major or minor chords. The app will provide real-time feedback, displaying the classification result along with confidence scores and visualizations such as waveforms or spectrograms. The app will be hosted on Streamlit Cloud, making it easily accessible and user-friendly for quick chord analysis."
   ]
  },
  {
   "cell_type": "code",
   "execution_count": null,
   "id": "78dbab1f",
   "metadata": {},
   "outputs": [],
   "source": []
  }
 ],
 "metadata": {
  "kernelspec": {
   "display_name": "Python 3",
   "language": "python",
   "name": "python3"
  },
  "language_info": {
   "codemirror_mode": {
    "name": "ipython",
    "version": 3
   },
   "file_extension": ".py",
   "mimetype": "text/x-python",
   "name": "python",
   "nbconvert_exporter": "python",
   "pygments_lexer": "ipython3",
   "version": "3.8.5"
  }
 },
 "nbformat": 4,
 "nbformat_minor": 5
}
